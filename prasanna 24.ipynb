{
 "cells": [
  {
   "cell_type": "code",
   "execution_count": 1,
   "id": "4f2f76ba",
   "metadata": {},
   "outputs": [],
   "source": [
    "prasanna=(\" i am prasanna from hyderabad i am staying in kachiguda\")"
   ]
  },
  {
   "cell_type": "code",
   "execution_count": 2,
   "id": "70bb804d",
   "metadata": {},
   "outputs": [
    {
     "name": "stdout",
     "output_type": "stream",
     "text": [
      " i am prasanna from hyderabad i am staying in kachiguda\n"
     ]
    }
   ],
   "source": [
    "print(prasanna)"
   ]
  },
  {
   "cell_type": "code",
   "execution_count": 3,
   "id": "094e9f82",
   "metadata": {},
   "outputs": [
    {
     "data": {
      "text/plain": [
       "'m'"
      ]
     },
     "execution_count": 3,
     "metadata": {},
     "output_type": "execute_result"
    }
   ],
   "source": [
    "prasanna[4]"
   ]
  },
  {
   "cell_type": "code",
   "execution_count": 4,
   "id": "0e4a4d90",
   "metadata": {},
   "outputs": [
    {
     "data": {
      "text/plain": [
       "8571"
      ]
     },
     "execution_count": 4,
     "metadata": {},
     "output_type": "execute_result"
    }
   ],
   "source": [
    "5691560895623029+648596233020\n",
    " 51+8520"
   ]
  },
  {
   "cell_type": "code",
   "execution_count": 5,
   "id": "54876b06",
   "metadata": {},
   "outputs": [
    {
     "data": {
      "text/plain": [
       "'a'"
      ]
     },
     "execution_count": 5,
     "metadata": {},
     "output_type": "execute_result"
    }
   ],
   "source": [
    "prasanna[8]"
   ]
  },
  {
   "cell_type": "code",
   "execution_count": 6,
   "id": "20e02d65",
   "metadata": {},
   "outputs": [
    {
     "data": {
      "text/plain": [
       "'a'"
      ]
     },
     "execution_count": 6,
     "metadata": {},
     "output_type": "execute_result"
    }
   ],
   "source": [
    "prasanna[-8]"
   ]
  },
  {
   "cell_type": "code",
   "execution_count": 7,
   "id": "d9a0a3a2",
   "metadata": {},
   "outputs": [
    {
     "data": {
      "text/plain": [
       "' i am pras'"
      ]
     },
     "execution_count": 7,
     "metadata": {},
     "output_type": "execute_result"
    }
   ],
   "source": [
    "prasanna[0:10:1]"
   ]
  },
  {
   "cell_type": "code",
   "execution_count": 8,
   "id": "06b0ebcf",
   "metadata": {},
   "outputs": [],
   "source": [
    "prasanna = \"i write code\""
   ]
  },
  {
   "cell_type": "code",
   "execution_count": 9,
   "id": "7767e001",
   "metadata": {},
   "outputs": [
    {
     "data": {
      "text/plain": [
       "'i write co'"
      ]
     },
     "execution_count": 9,
     "metadata": {},
     "output_type": "execute_result"
    }
   ],
   "source": [
    "prasanna[0:10:1]"
   ]
  },
  {
   "cell_type": "code",
   "execution_count": 10,
   "id": "fdc78567",
   "metadata": {},
   "outputs": [
    {
     "data": {
      "text/plain": [
       "'i write c'"
      ]
     },
     "execution_count": 10,
     "metadata": {},
     "output_type": "execute_result"
    }
   ],
   "source": [
    "prasanna[0:9:1]"
   ]
  },
  {
   "cell_type": "code",
   "execution_count": 11,
   "id": "e6680495",
   "metadata": {},
   "outputs": [
    {
     "data": {
      "text/plain": [
       "'iwiec'"
      ]
     },
     "execution_count": 11,
     "metadata": {},
     "output_type": "execute_result"
    }
   ],
   "source": [
    "prasanna[0:10:2]"
   ]
  },
  {
   "cell_type": "code",
   "execution_count": 12,
   "id": "bb7a0641",
   "metadata": {},
   "outputs": [
    {
     "data": {
      "text/plain": [
       "'ireo'"
      ]
     },
     "execution_count": 12,
     "metadata": {},
     "output_type": "execute_result"
    }
   ],
   "source": [
    "prasanna[0:10:3]"
   ]
  },
  {
   "cell_type": "code",
   "execution_count": 13,
   "id": "9649ac55",
   "metadata": {},
   "outputs": [
    {
     "data": {
      "text/plain": [
       "'iic'"
      ]
     },
     "execution_count": 13,
     "metadata": {},
     "output_type": "execute_result"
    }
   ],
   "source": [
    "prasanna[0:10:4]"
   ]
  },
  {
   "cell_type": "code",
   "execution_count": 14,
   "id": "27a0391f",
   "metadata": {},
   "outputs": [
    {
     "data": {
      "text/plain": [
       "'it'"
      ]
     },
     "execution_count": 14,
     "metadata": {},
     "output_type": "execute_result"
    }
   ],
   "source": [
    "prasanna[0:10:5]"
   ]
  },
  {
   "cell_type": "code",
   "execution_count": 15,
   "id": "ab44c24a",
   "metadata": {},
   "outputs": [
    {
     "data": {
      "text/plain": [
       "'ie'"
      ]
     },
     "execution_count": 15,
     "metadata": {},
     "output_type": "execute_result"
    }
   ],
   "source": [
    "prasanna[0:10:6]"
   ]
  },
  {
   "cell_type": "code",
   "execution_count": null,
   "id": "edff575d",
   "metadata": {},
   "outputs": [],
   "source": []
  }
 ],
 "metadata": {
  "kernelspec": {
   "display_name": "Python 3 (ipykernel)",
   "language": "python",
   "name": "python3"
  },
  "language_info": {
   "codemirror_mode": {
    "name": "ipython",
    "version": 3
   },
   "file_extension": ".py",
   "mimetype": "text/x-python",
   "name": "python",
   "nbconvert_exporter": "python",
   "pygments_lexer": "ipython3",
   "version": "3.10.9"
  }
 },
 "nbformat": 4,
 "nbformat_minor": 5
}
