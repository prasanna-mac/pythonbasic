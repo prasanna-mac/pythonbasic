{
 "cells": [
  {
   "cell_type": "markdown",
   "id": "5da3a129",
   "metadata": {},
   "source": [
    "# boolean,conditions and list manupilation"
   ]
  },
  {
   "cell_type": "markdown",
   "id": "ae08bcd5",
   "metadata": {},
   "source": [
    "# true or false are of a condition is known as boolean"
   ]
  },
  {
   "cell_type": "code",
   "execution_count": 1,
   "id": "0d309f91",
   "metadata": {},
   "outputs": [],
   "source": [
    "a= 10"
   ]
  },
  {
   "cell_type": "code",
   "execution_count": 2,
   "id": "1cabf932",
   "metadata": {},
   "outputs": [],
   "source": [
    "b = 5"
   ]
  },
  {
   "cell_type": "code",
   "execution_count": 3,
   "id": "c45aad44",
   "metadata": {},
   "outputs": [
    {
     "name": "stdout",
     "output_type": "stream",
     "text": [
      "True\n"
     ]
    }
   ],
   "source": [
    "print(a>b)"
   ]
  },
  {
   "cell_type": "code",
   "execution_count": 4,
   "id": "fe899a01",
   "metadata": {},
   "outputs": [
    {
     "name": "stdout",
     "output_type": "stream",
     "text": [
      "False\n"
     ]
    }
   ],
   "source": [
    "print(a<b)"
   ]
  },
  {
   "cell_type": "code",
   "execution_count": 5,
   "id": "b4dd7487",
   "metadata": {},
   "outputs": [],
   "source": [
    "car=20"
   ]
  },
  {
   "cell_type": "code",
   "execution_count": 6,
   "id": "f3d9b11b",
   "metadata": {},
   "outputs": [],
   "source": [
    "bike=40"
   ]
  },
  {
   "cell_type": "code",
   "execution_count": 7,
   "id": "886ae8c2",
   "metadata": {},
   "outputs": [
    {
     "name": "stdout",
     "output_type": "stream",
     "text": [
      "True\n"
     ]
    }
   ],
   "source": [
    "print(bike>car)"
   ]
  },
  {
   "cell_type": "code",
   "execution_count": 8,
   "id": "819a730c",
   "metadata": {},
   "outputs": [],
   "source": [
    "python = 2.55"
   ]
  },
  {
   "cell_type": "code",
   "execution_count": 9,
   "id": "3480d077",
   "metadata": {},
   "outputs": [],
   "source": [
    "r = 1.00"
   ]
  },
  {
   "cell_type": "code",
   "execution_count": 10,
   "id": "332e68f6",
   "metadata": {},
   "outputs": [
    {
     "name": "stdout",
     "output_type": "stream",
     "text": [
      "True\n"
     ]
    }
   ],
   "source": [
    "print(python> r)"
   ]
  },
  {
   "cell_type": "code",
   "execution_count": 11,
   "id": "edf1890b",
   "metadata": {},
   "outputs": [
    {
     "name": "stdout",
     "output_type": "stream",
     "text": [
      "False\n"
     ]
    }
   ],
   "source": [
    "print(python<r)"
   ]
  },
  {
   "cell_type": "code",
   "execution_count": 12,
   "id": "8a6c344f",
   "metadata": {},
   "outputs": [],
   "source": [
    "mysql=7.88"
   ]
  },
  {
   "cell_type": "code",
   "execution_count": 15,
   "id": "3d82fa86",
   "metadata": {},
   "outputs": [],
   "source": [
    "sql=9.99"
   ]
  },
  {
   "cell_type": "code",
   "execution_count": 16,
   "id": "1135b037",
   "metadata": {},
   "outputs": [
    {
     "name": "stdout",
     "output_type": "stream",
     "text": [
      "True\n"
     ]
    }
   ],
   "source": [
    "print(mysql<sql)"
   ]
  },
  {
   "cell_type": "code",
   "execution_count": 17,
   "id": "78fd95ea",
   "metadata": {},
   "outputs": [
    {
     "name": "stdout",
     "output_type": "stream",
     "text": [
      "False\n"
     ]
    }
   ],
   "source": [
    "print(mysql>sql)"
   ]
  },
  {
   "cell_type": "code",
   "execution_count": null,
   "id": "6a51a9c1",
   "metadata": {},
   "outputs": [],
   "source": [
    "+,-,*,/,%"
   ]
  },
  {
   "cell_type": "code",
   "execution_count": 20,
   "id": "a34e8c8d",
   "metadata": {},
   "outputs": [],
   "source": [
    "a = 10"
   ]
  },
  {
   "cell_type": "code",
   "execution_count": 21,
   "id": "f20497ad",
   "metadata": {},
   "outputs": [],
   "source": [
    "b= 20"
   ]
  },
  {
   "cell_type": "code",
   "execution_count": 22,
   "id": "fa79449f",
   "metadata": {},
   "outputs": [
    {
     "data": {
      "text/plain": [
       "30"
      ]
     },
     "execution_count": 22,
     "metadata": {},
     "output_type": "execute_result"
    }
   ],
   "source": [
    "a+b"
   ]
  },
  {
   "cell_type": "code",
   "execution_count": 23,
   "id": "32c76390",
   "metadata": {},
   "outputs": [
    {
     "data": {
      "text/plain": [
       "-10"
      ]
     },
     "execution_count": 23,
     "metadata": {},
     "output_type": "execute_result"
    }
   ],
   "source": [
    "a-b"
   ]
  },
  {
   "cell_type": "code",
   "execution_count": 24,
   "id": "bd26d65d",
   "metadata": {},
   "outputs": [
    {
     "data": {
      "text/plain": [
       "200"
      ]
     },
     "execution_count": 24,
     "metadata": {},
     "output_type": "execute_result"
    }
   ],
   "source": [
    "a*b"
   ]
  },
  {
   "cell_type": "code",
   "execution_count": 25,
   "id": "1b74dd8f",
   "metadata": {},
   "outputs": [
    {
     "data": {
      "text/plain": [
       "0.5"
      ]
     },
     "execution_count": 25,
     "metadata": {},
     "output_type": "execute_result"
    }
   ],
   "source": [
    "a/b"
   ]
  },
  {
   "cell_type": "code",
   "execution_count": 26,
   "id": "1739f14f",
   "metadata": {},
   "outputs": [
    {
     "data": {
      "text/plain": [
       "10"
      ]
     },
     "execution_count": 26,
     "metadata": {},
     "output_type": "execute_result"
    }
   ],
   "source": [
    "a%b"
   ]
  },
  {
   "cell_type": "code",
   "execution_count": 27,
   "id": "6148a716",
   "metadata": {},
   "outputs": [],
   "source": [
    "car = 20"
   ]
  },
  {
   "cell_type": "code",
   "execution_count": 28,
   "id": "8ac3905e",
   "metadata": {},
   "outputs": [],
   "source": [
    "pen=40"
   ]
  },
  {
   "cell_type": "code",
   "execution_count": 29,
   "id": "8c37af01",
   "metadata": {},
   "outputs": [
    {
     "name": "stdout",
     "output_type": "stream",
     "text": [
      "60\n"
     ]
    }
   ],
   "source": [
    "print(car+pen)"
   ]
  },
  {
   "cell_type": "code",
   "execution_count": 30,
   "id": "c8fc63a8",
   "metadata": {},
   "outputs": [
    {
     "name": "stdout",
     "output_type": "stream",
     "text": [
      "here we are adding car an pen variable\n"
     ]
    }
   ],
   "source": [
    "print(\"here we are adding car an pen variable\",)"
   ]
  },
  {
   "cell_type": "code",
   "execution_count": 31,
   "id": "5fdabf9b",
   "metadata": {},
   "outputs": [],
   "source": [
    "car= 30"
   ]
  },
  {
   "cell_type": "code",
   "execution_count": 32,
   "id": "76763699",
   "metadata": {},
   "outputs": [],
   "source": [
    "pen=40"
   ]
  },
  {
   "cell_type": "code",
   "execution_count": 33,
   "id": "cb4bb349",
   "metadata": {},
   "outputs": [],
   "source": [
    "book=car+pen"
   ]
  },
  {
   "cell_type": "code",
   "execution_count": null,
   "id": "dbcd196d",
   "metadata": {},
   "outputs": [],
   "source": []
  },
  {
   "cell_type": "code",
   "execution_count": 38,
   "id": "0201a21f",
   "metadata": {},
   "outputs": [
    {
     "name": "stdout",
     "output_type": "stream",
     "text": [
      "here we are doing concatination of car and pen: value of book is:- 40\n"
     ]
    }
   ],
   "source": [
    "print(\"here we are doing concatination of car and pen: value of book is:-\",pen )"
   ]
  },
  {
   "cell_type": "code",
   "execution_count": 40,
   "id": "a506a10d",
   "metadata": {},
   "outputs": [],
   "source": [
    "a = 40\n",
    "car=20\n",
    "value=a + car\n",
    "value2= a-car\n",
    "value3=a*car\n",
    "value4=a%car\n",
    "value5=a*100/car # this is the percentage of a "
   ]
  },
  {
   "cell_type": "code",
   "execution_count": 41,
   "id": "3972074a",
   "metadata": {},
   "outputs": [
    {
     "name": "stdout",
     "output_type": "stream",
     "text": [
      "60\n"
     ]
    }
   ],
   "source": [
    "print(value)"
   ]
  },
  {
   "cell_type": "code",
   "execution_count": 42,
   "id": "d1998a12",
   "metadata": {},
   "outputs": [
    {
     "name": "stdout",
     "output_type": "stream",
     "text": [
      "20\n"
     ]
    }
   ],
   "source": [
    "print(value2)"
   ]
  },
  {
   "cell_type": "code",
   "execution_count": 43,
   "id": "3234f098",
   "metadata": {},
   "outputs": [
    {
     "name": "stdout",
     "output_type": "stream",
     "text": [
      "800\n"
     ]
    }
   ],
   "source": [
    "print(value3)"
   ]
  },
  {
   "cell_type": "code",
   "execution_count": 44,
   "id": "211fd0f3",
   "metadata": {},
   "outputs": [
    {
     "name": "stdout",
     "output_type": "stream",
     "text": [
      "0\n"
     ]
    }
   ],
   "source": [
    "print(value4)"
   ]
  },
  {
   "cell_type": "code",
   "execution_count": 45,
   "id": "d038be6c",
   "metadata": {},
   "outputs": [
    {
     "name": "stdout",
     "output_type": "stream",
     "text": [
      "200.0\n"
     ]
    }
   ],
   "source": [
    "print(value5)"
   ]
  },
  {
   "cell_type": "markdown",
   "id": "c0fdd9a5",
   "metadata": {},
   "source": [
    "# list manupulation"
   ]
  },
  {
   "cell_type": "code",
   "execution_count": 46,
   "id": "0dcc2ad2",
   "metadata": {},
   "outputs": [],
   "source": [
    "t= (1,2,3,3.5,\"prasanna\")"
   ]
  },
  {
   "cell_type": "code",
   "execution_count": 48,
   "id": "7f959017",
   "metadata": {},
   "outputs": [
    {
     "data": {
      "text/plain": [
       "tuple"
      ]
     },
     "execution_count": 48,
     "metadata": {},
     "output_type": "execute_result"
    }
   ],
   "source": [
    "type(t)"
   ]
  },
  {
   "cell_type": "code",
   "execution_count": 49,
   "id": "20ca2d2e",
   "metadata": {},
   "outputs": [
    {
     "data": {
      "text/plain": [
       "[1, 2, 3, 3.5, 'prasanna']"
      ]
     },
     "execution_count": 49,
     "metadata": {},
     "output_type": "execute_result"
    }
   ],
   "source": [
    "list (t)"
   ]
  },
  {
   "cell_type": "code",
   "execution_count": 50,
   "id": "14b992f1",
   "metadata": {},
   "outputs": [],
   "source": [
    "b= list(t)"
   ]
  },
  {
   "cell_type": "code",
   "execution_count": 51,
   "id": "bdaca2af",
   "metadata": {},
   "outputs": [
    {
     "data": {
      "text/plain": [
       "list"
      ]
     },
     "execution_count": 51,
     "metadata": {},
     "output_type": "execute_result"
    }
   ],
   "source": [
    "type(b)"
   ]
  },
  {
   "cell_type": "code",
   "execution_count": 52,
   "id": "267cf105",
   "metadata": {},
   "outputs": [
    {
     "data": {
      "text/plain": [
       "[1, 2, 3, 3.5, 'prasanna']"
      ]
     },
     "execution_count": 52,
     "metadata": {},
     "output_type": "execute_result"
    }
   ],
   "source": [
    "list(t)"
   ]
  },
  {
   "cell_type": "code",
   "execution_count": 53,
   "id": "7cf3f43b",
   "metadata": {},
   "outputs": [
    {
     "data": {
      "text/plain": [
       "(1, 2, 3, 3.5, 'prasanna')"
      ]
     },
     "execution_count": 53,
     "metadata": {},
     "output_type": "execute_result"
    }
   ],
   "source": [
    "tuple(t)"
   ]
  },
  {
   "cell_type": "code",
   "execution_count": 55,
   "id": "6cce1a38",
   "metadata": {},
   "outputs": [
    {
     "data": {
      "text/plain": [
       "[1, 2, 3, 3.5, 'prasanna']"
      ]
     },
     "execution_count": 55,
     "metadata": {},
     "output_type": "execute_result"
    }
   ],
   "source": [
    "list(b)"
   ]
  },
  {
   "cell_type": "code",
   "execution_count": 57,
   "id": "ac990b6c",
   "metadata": {},
   "outputs": [],
   "source": [
    "c={1,2,3,4,5,\"prasanna\",\"sanjana\"}"
   ]
  },
  {
   "cell_type": "code",
   "execution_count": 58,
   "id": "0073c9a5",
   "metadata": {},
   "outputs": [
    {
     "data": {
      "text/plain": [
       "set"
      ]
     },
     "execution_count": 58,
     "metadata": {},
     "output_type": "execute_result"
    }
   ],
   "source": [
    "type(c)"
   ]
  },
  {
   "cell_type": "code",
   "execution_count": 60,
   "id": "b67040cc",
   "metadata": {},
   "outputs": [
    {
     "data": {
      "text/plain": [
       "[1, 2, 3, 4, 5, 'prasanna', 'sanjana']"
      ]
     },
     "execution_count": 60,
     "metadata": {},
     "output_type": "execute_result"
    }
   ],
   "source": [
    "list(c)"
   ]
  },
  {
   "cell_type": "code",
   "execution_count": 62,
   "id": "8b5fbbde",
   "metadata": {},
   "outputs": [],
   "source": [
    "s1= list(c)"
   ]
  },
  {
   "cell_type": "code",
   "execution_count": 63,
   "id": "41e9dd58",
   "metadata": {},
   "outputs": [
    {
     "name": "stdout",
     "output_type": "stream",
     "text": [
      "[1, 2, 3, 4, 5, 'prasanna', 'sanjana']\n"
     ]
    }
   ],
   "source": [
    "print(s1)"
   ]
  },
  {
   "cell_type": "code",
   "execution_count": 64,
   "id": "76fb306f",
   "metadata": {},
   "outputs": [
    {
     "data": {
      "text/plain": [
       "list"
      ]
     },
     "execution_count": 64,
     "metadata": {},
     "output_type": "execute_result"
    }
   ],
   "source": [
    "type(s1)"
   ]
  },
  {
   "cell_type": "code",
   "execution_count": null,
   "id": "19fe4b5e",
   "metadata": {},
   "outputs": [],
   "source": []
  }
 ],
 "metadata": {
  "kernelspec": {
   "display_name": "Python 3 (ipykernel)",
   "language": "python",
   "name": "python3"
  },
  "language_info": {
   "codemirror_mode": {
    "name": "ipython",
    "version": 3
   },
   "file_extension": ".py",
   "mimetype": "text/x-python",
   "name": "python",
   "nbconvert_exporter": "python",
   "pygments_lexer": "ipython3",
   "version": "3.10.9"
  }
 },
 "nbformat": 4,
 "nbformat_minor": 5
}
