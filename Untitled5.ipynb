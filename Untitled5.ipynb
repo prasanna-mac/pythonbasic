{
 "cells": [
  {
   "cell_type": "markdown",
   "id": "9dd14802",
   "metadata": {},
   "source": [
    "# indexing"
   ]
  },
  {
   "cell_type": "code",
   "execution_count": 1,
   "id": "a3477f75",
   "metadata": {},
   "outputs": [],
   "source": [
    "list = [\"naveen\",\"car\",\"money\",\"watch\",\"bike\",\"college\"]"
   ]
  },
  {
   "cell_type": "code",
   "execution_count": 2,
   "id": "244553e5",
   "metadata": {},
   "outputs": [
    {
     "data": {
      "text/plain": [
       "['naveen', 'car', 'money', 'watch', 'bike', 'college']"
      ]
     },
     "execution_count": 2,
     "metadata": {},
     "output_type": "execute_result"
    }
   ],
   "source": [
    "list"
   ]
  },
  {
   "cell_type": "code",
   "execution_count": 3,
   "id": "54fe4029",
   "metadata": {},
   "outputs": [],
   "source": [
    "a=(\"a\",\"b\",\"c\",\"d\",\"e\",\"f\",\"g\",\"h\",\"i\")"
   ]
  },
  {
   "cell_type": "code",
   "execution_count": 4,
   "id": "88caa8a0",
   "metadata": {},
   "outputs": [
    {
     "data": {
      "text/plain": [
       "('a', 'b', 'c', 'd', 'e', 'f', 'g', 'h', 'i')"
      ]
     },
     "execution_count": 4,
     "metadata": {},
     "output_type": "execute_result"
    }
   ],
   "source": [
    "a"
   ]
  },
  {
   "cell_type": "code",
   "execution_count": 5,
   "id": "fcb3d060",
   "metadata": {},
   "outputs": [],
   "source": [
    "b={1,2,3,4,5,6,7,8}"
   ]
  },
  {
   "cell_type": "code",
   "execution_count": 6,
   "id": "40dffe78",
   "metadata": {},
   "outputs": [],
   "source": [
    "set={1,2,3,4,5,6,7,8,9,10}"
   ]
  },
  {
   "cell_type": "code",
   "execution_count": 8,
   "id": "d09af41f",
   "metadata": {},
   "outputs": [],
   "source": [
    "dic={\"key\": \"value\", \"key1\":\"value2\",\"key\":\"value2\"}"
   ]
  },
  {
   "cell_type": "code",
   "execution_count": 15,
   "id": "824882f1",
   "metadata": {},
   "outputs": [],
   "source": [
    "prasanna={\"name\":\"prasanna\",\"email_id\": \"manchirevulaprasanna20@gmail.com\",\"college\":\"kmics\",\"place\":\"hyderabad\"}"
   ]
  },
  {
   "cell_type": "code",
   "execution_count": 16,
   "id": "e68cc9d2",
   "metadata": {},
   "outputs": [
    {
     "data": {
      "text/plain": [
       "{'name': 'prasanna',\n",
       " 'email_id': 'manchirevulaprasanna20@gmail.com',\n",
       " 'college': 'kmics',\n",
       " 'place': 'hyderabad'}"
      ]
     },
     "execution_count": 16,
     "metadata": {},
     "output_type": "execute_result"
    }
   ],
   "source": [
    "prasanna"
   ]
  },
  {
   "cell_type": "code",
   "execution_count": 17,
   "id": "d44d6009",
   "metadata": {},
   "outputs": [
    {
     "data": {
      "text/plain": [
       "dict_values(['prasanna', 'manchirevulaprasanna20@gmail.com', 'kmics', 'hyderabad'])"
      ]
     },
     "execution_count": 17,
     "metadata": {},
     "output_type": "execute_result"
    }
   ],
   "source": [
    "prasanna.values()"
   ]
  },
  {
   "cell_type": "code",
   "execution_count": 13,
   "id": "fbf190b0",
   "metadata": {},
   "outputs": [
    {
     "data": {
      "text/plain": [
       "dict_keys(['name', 'email_id', 'college', 'place'])"
      ]
     },
     "execution_count": 13,
     "metadata": {},
     "output_type": "execute_result"
    }
   ],
   "source": [
    "prasanna.keys()"
   ]
  },
  {
   "cell_type": "code",
   "execution_count": 18,
   "id": "92cc0fd8",
   "metadata": {},
   "outputs": [
    {
     "data": {
      "text/plain": [
       "<function dict.values>"
      ]
     },
     "execution_count": 18,
     "metadata": {},
     "output_type": "execute_result"
    }
   ],
   "source": [
    "prasanna.values"
   ]
  },
  {
   "cell_type": "code",
   "execution_count": 19,
   "id": "2ee19728",
   "metadata": {},
   "outputs": [
    {
     "data": {
      "text/plain": [
       "dict"
      ]
     },
     "execution_count": 19,
     "metadata": {},
     "output_type": "execute_result"
    }
   ],
   "source": [
    "type(prasanna)"
   ]
  },
  {
   "cell_type": "code",
   "execution_count": 25,
   "id": "663dcbf3",
   "metadata": {},
   "outputs": [],
   "source": [
    "prasanna[0]=\"kachiguda\""
   ]
  },
  {
   "cell_type": "code",
   "execution_count": 26,
   "id": "c8d6641b",
   "metadata": {},
   "outputs": [
    {
     "data": {
      "text/plain": [
       "{'name': 'prasanna',\n",
       " 'email_id': 'manchirevulaprasanna20@gmail.com',\n",
       " 'college': 'kmics',\n",
       " 'place': 'hyderabad',\n",
       " 0: 'kachiguda'}"
      ]
     },
     "execution_count": 26,
     "metadata": {},
     "output_type": "execute_result"
    }
   ],
   "source": [
    "prasanna"
   ]
  },
  {
   "cell_type": "code",
   "execution_count": 27,
   "id": "2d852fba",
   "metadata": {},
   "outputs": [
    {
     "data": {
      "text/plain": [
       "'kachiguda'"
      ]
     },
     "execution_count": 27,
     "metadata": {},
     "output_type": "execute_result"
    }
   ],
   "source": [
    "prasanna[0]"
   ]
  },
  {
   "cell_type": "code",
   "execution_count": 28,
   "id": "fe220694",
   "metadata": {},
   "outputs": [],
   "source": [
    "prasanna[1]= \"shymala\""
   ]
  },
  {
   "cell_type": "code",
   "execution_count": 29,
   "id": "9ecc3b0d",
   "metadata": {},
   "outputs": [
    {
     "data": {
      "text/plain": [
       "{'name': 'prasanna',\n",
       " 'email_id': 'manchirevulaprasanna20@gmail.com',\n",
       " 'college': 'kmics',\n",
       " 'place': 'hyderabad',\n",
       " 0: 'kachiguda',\n",
       " 1: 'shymala'}"
      ]
     },
     "execution_count": 29,
     "metadata": {},
     "output_type": "execute_result"
    }
   ],
   "source": [
    "prasanna"
   ]
  },
  {
   "cell_type": "code",
   "execution_count": 31,
   "id": "d5de2bfd",
   "metadata": {},
   "outputs": [],
   "source": [
    "prasanna[2]=\"dasara\" "
   ]
  },
  {
   "cell_type": "code",
   "execution_count": 32,
   "id": "58a2e772",
   "metadata": {},
   "outputs": [
    {
     "data": {
      "text/plain": [
       "{'name': 'prasanna',\n",
       " 'email_id': 'manchirevulaprasanna20@gmail.com',\n",
       " 'college': 'kmics',\n",
       " 'place': 'hyderabad',\n",
       " 0: 'kachiguda',\n",
       " 1: 'shymala',\n",
       " 2: 'dasara'}"
      ]
     },
     "execution_count": 32,
     "metadata": {},
     "output_type": "execute_result"
    }
   ],
   "source": [
    "prasanna"
   ]
  },
  {
   "cell_type": "code",
   "execution_count": 33,
   "id": "f10734fb",
   "metadata": {},
   "outputs": [],
   "source": [
    "prasanna[\"makeup\"]= \"cosmatics\""
   ]
  },
  {
   "cell_type": "code",
   "execution_count": 34,
   "id": "4afd8ef1",
   "metadata": {},
   "outputs": [
    {
     "data": {
      "text/plain": [
       "{'name': 'prasanna',\n",
       " 'email_id': 'manchirevulaprasanna20@gmail.com',\n",
       " 'college': 'kmics',\n",
       " 'place': 'hyderabad',\n",
       " 0: 'kachiguda',\n",
       " 1: 'shymala',\n",
       " 2: 'dasara',\n",
       " 'makeup': 'cosmatics'}"
      ]
     },
     "execution_count": 34,
     "metadata": {},
     "output_type": "execute_result"
    }
   ],
   "source": [
    "prasanna"
   ]
  },
  {
   "cell_type": "code",
   "execution_count": 35,
   "id": "8cb2222c",
   "metadata": {},
   "outputs": [],
   "source": [
    "prasanna[\"movie\"]=\"dasara\""
   ]
  },
  {
   "cell_type": "code",
   "execution_count": 36,
   "id": "7e676343",
   "metadata": {},
   "outputs": [
    {
     "data": {
      "text/plain": [
       "{'name': 'prasanna',\n",
       " 'email_id': 'manchirevulaprasanna20@gmail.com',\n",
       " 'college': 'kmics',\n",
       " 'place': 'hyderabad',\n",
       " 0: 'kachiguda',\n",
       " 1: 'shymala',\n",
       " 2: 'dasara',\n",
       " 'makeup': 'cosmatics',\n",
       " 'movie': 'dasara'}"
      ]
     },
     "execution_count": 36,
     "metadata": {},
     "output_type": "execute_result"
    }
   ],
   "source": [
    "prasanna"
   ]
  },
  {
   "cell_type": "code",
   "execution_count": 44,
   "id": "a5d84837",
   "metadata": {},
   "outputs": [],
   "source": [
    "t= (\"prasanna\",\"college\",\"car\",\"book\",\"bike\")"
   ]
  },
  {
   "cell_type": "code",
   "execution_count": 45,
   "id": "43845cf4",
   "metadata": {},
   "outputs": [
    {
     "data": {
      "text/plain": [
       "('prasanna', 'college', 'car', 'book', 'bike')"
      ]
     },
     "execution_count": 45,
     "metadata": {},
     "output_type": "execute_result"
    }
   ],
   "source": [
    "t"
   ]
  },
  {
   "cell_type": "code",
   "execution_count": 53,
   "id": "180ec8e9",
   "metadata": {},
   "outputs": [],
   "source": [
    "t[0]=\"sanjana\""
   ]
  },
  {
   "cell_type": "code",
   "execution_count": 59,
   "id": "5efc0a3f",
   "metadata": {},
   "outputs": [],
   "source": [
    "t= (\"prasanna\",\"college\",\"car\",\"book\",\"bike\")"
   ]
  },
  {
   "cell_type": "code",
   "execution_count": 60,
   "id": "ad829e79",
   "metadata": {},
   "outputs": [
    {
     "ename": "TypeError",
     "evalue": "'tuple' object does not support item assignment",
     "output_type": "error",
     "traceback": [
      "\u001b[1;31m---------------------------------------------------------------------------\u001b[0m",
      "\u001b[1;31mTypeError\u001b[0m                                 Traceback (most recent call last)",
      "Cell \u001b[1;32mIn[60], line 1\u001b[0m\n\u001b[1;32m----> 1\u001b[0m t[\u001b[38;5;241m1\u001b[39m]\u001b[38;5;241m=\u001b[39m \u001b[38;5;124m\"\u001b[39m\u001b[38;5;124msanjana\u001b[39m\u001b[38;5;124m\"\u001b[39m\n",
      "\u001b[1;31mTypeError\u001b[0m: 'tuple' object does not support item assignment"
     ]
    }
   ],
   "source": [
    "t[1]= \"sanjana\""
   ]
  },
  {
   "cell_type": "code",
   "execution_count": 61,
   "id": "65e21c7f",
   "metadata": {},
   "outputs": [
    {
     "data": {
      "text/plain": [
       "('prasanna', 'college', 'car', 'book', 'bike')"
      ]
     },
     "execution_count": 61,
     "metadata": {},
     "output_type": "execute_result"
    }
   ],
   "source": [
    "t"
   ]
  },
  {
   "cell_type": "code",
   "execution_count": 62,
   "id": "b4e68676",
   "metadata": {},
   "outputs": [
    {
     "data": {
      "text/plain": [
       "'prasanna'"
      ]
     },
     "execution_count": 62,
     "metadata": {},
     "output_type": "execute_result"
    }
   ],
   "source": [
    "t[0]"
   ]
  },
  {
   "cell_type": "code",
   "execution_count": 75,
   "id": "aad7f3ca",
   "metadata": {},
   "outputs": [],
   "source": [
    "f = open(\"prasanna.txt\",\"w\")"
   ]
  },
  {
   "cell_type": "code",
   "execution_count": 76,
   "id": "416b948c",
   "metadata": {},
   "outputs": [
    {
     "data": {
      "text/plain": [
       "65"
      ]
     },
     "execution_count": 76,
     "metadata": {},
     "output_type": "execute_result"
    }
   ],
   "source": [
    "f.write(\"this is my first file written in jupyter notebook on 1-april-2023\")"
   ]
  },
  {
   "cell_type": "code",
   "execution_count": 77,
   "id": "92f8fa1a",
   "metadata": {},
   "outputs": [],
   "source": [
    "f.close()"
   ]
  },
  {
   "cell_type": "code",
   "execution_count": 74,
   "id": "a40e5659",
   "metadata": {},
   "outputs": [
    {
     "name": "stdout",
     "output_type": "stream",
     "text": [
      " Volume in drive C is OS\n",
      " Volume Serial Number is 3C08-6E71\n",
      "\n",
      " Directory of C:\\Users\\KMICS LAB2-6\\DESKTOP\n",
      "\n",
      "01-04-2023  15:21    <DIR>          .\n",
      "01-04-2023  15:18    <DIR>          ..\n",
      "01-04-2023  13:49    <DIR>          .ipynb_checkpoints\n",
      "03-02-2023  11:54    <DIR>          DESKTOP\n",
      "01-04-2023  13:47             5,265 prasanna 24.ipynb\n",
      "01-04-2023  15:20                65 prasanna.txt\n",
      "31-03-2023  15:08            13,250 prasanna-2023.ipynb\n",
      "29-03-2023  13:28               589 Untitled.ipynb\n",
      "29-03-2023  14:59            13,250 Untitled1.ipynb\n",
      "31-03-2023  13:39                72 Untitled2.ipynb\n",
      "31-03-2023  14:43             9,164 Untitled3.ipynb\n",
      "31-03-2023  15:04             5,265 Untitled4.ipynb\n",
      "01-04-2023  15:21            11,686 Untitled5.ipynb\n",
      "               9 File(s)         58,606 bytes\n",
      "               4 Dir(s)  146,210,766,848 bytes free\n"
     ]
    }
   ],
   "source": [
    "ls"
   ]
  },
  {
   "cell_type": "code",
   "execution_count": null,
   "id": "429ead54",
   "metadata": {},
   "outputs": [],
   "source": []
  }
 ],
 "metadata": {
  "kernelspec": {
   "display_name": "Python 3 (ipykernel)",
   "language": "python",
   "name": "python3"
  },
  "language_info": {
   "codemirror_mode": {
    "name": "ipython",
    "version": 3
   },
   "file_extension": ".py",
   "mimetype": "text/x-python",
   "name": "python",
   "nbconvert_exporter": "python",
   "pygments_lexer": "ipython3",
   "version": "3.10.9"
  }
 },
 "nbformat": 4,
 "nbformat_minor": 5
}
