{
 "cells": [
  {
   "cell_type": "code",
   "execution_count": 1,
   "id": "260da5ba",
   "metadata": {},
   "outputs": [],
   "source": [
    "strings=\"orange\""
   ]
  },
  {
   "cell_type": "code",
   "execution_count": 2,
   "id": "5100b784",
   "metadata": {},
   "outputs": [],
   "source": [
    "name=\"prasanna\""
   ]
  },
  {
   "cell_type": "code",
   "execution_count": 3,
   "id": "12a3c3ce",
   "metadata": {},
   "outputs": [
    {
     "data": {
      "text/plain": [
       "'prasanna'"
      ]
     },
     "execution_count": 3,
     "metadata": {},
     "output_type": "execute_result"
    }
   ],
   "source": [
    "name"
   ]
  },
  {
   "cell_type": "code",
   "execution_count": 4,
   "id": "a0b979db",
   "metadata": {},
   "outputs": [],
   "source": [
    "sanjana=\"heart\""
   ]
  },
  {
   "cell_type": "code",
   "execution_count": 5,
   "id": "ff86b1c4",
   "metadata": {},
   "outputs": [
    {
     "data": {
      "text/plain": [
       "'heart'"
      ]
     },
     "execution_count": 5,
     "metadata": {},
     "output_type": "execute_result"
    }
   ],
   "source": [
    "sanjana"
   ]
  },
  {
   "cell_type": "code",
   "execution_count": 6,
   "id": "c82eec38",
   "metadata": {},
   "outputs": [],
   "source": [
    "akhila=\"prema\""
   ]
  },
  {
   "cell_type": "code",
   "execution_count": 7,
   "id": "7edd83ae",
   "metadata": {},
   "outputs": [
    {
     "data": {
      "text/plain": [
       "'prema'"
      ]
     },
     "execution_count": 7,
     "metadata": {},
     "output_type": "execute_result"
    }
   ],
   "source": [
    "akhila"
   ]
  },
  {
   "cell_type": "code",
   "execution_count": 9,
   "id": "f4041ec4",
   "metadata": {},
   "outputs": [
    {
     "ename": "SyntaxError",
     "evalue": "invalid syntax (3168856509.py, line 1)",
     "output_type": "error",
     "traceback": [
      "\u001b[1;36m  Cell \u001b[1;32mIn[9], line 1\u001b[1;36m\u001b[0m\n\u001b[1;33m    sanjana mam = \"manasu\"\u001b[0m\n\u001b[1;37m            ^\u001b[0m\n\u001b[1;31mSyntaxError\u001b[0m\u001b[1;31m:\u001b[0m invalid syntax\n"
     ]
    }
   ],
   "source": [
    "sanjana mam = \"manasu\""
   ]
  },
  {
   "cell_type": "code",
   "execution_count": 10,
   "id": "a7d79df7",
   "metadata": {},
   "outputs": [],
   "source": [
    "bmw=\"x1\""
   ]
  },
  {
   "cell_type": "code",
   "execution_count": 11,
   "id": "ec83daea",
   "metadata": {},
   "outputs": [
    {
     "data": {
      "text/plain": [
       "'x1'"
      ]
     },
     "execution_count": 11,
     "metadata": {},
     "output_type": "execute_result"
    }
   ],
   "source": [
    "bmw"
   ]
  },
  {
   "cell_type": "code",
   "execution_count": 12,
   "id": "7969e6ee",
   "metadata": {},
   "outputs": [],
   "source": [
    "coding=\"IT technology\" "
   ]
  },
  {
   "cell_type": "code",
   "execution_count": 13,
   "id": "11561dee",
   "metadata": {},
   "outputs": [
    {
     "data": {
      "text/plain": [
       "'IT technology'"
      ]
     },
     "execution_count": 13,
     "metadata": {},
     "output_type": "execute_result"
    }
   ],
   "source": [
    "coding"
   ]
  },
  {
   "cell_type": "code",
   "execution_count": 14,
   "id": "78571446",
   "metadata": {},
   "outputs": [],
   "source": [
    "college=\"education\""
   ]
  },
  {
   "cell_type": "code",
   "execution_count": 15,
   "id": "d81bc705",
   "metadata": {},
   "outputs": [
    {
     "data": {
      "text/plain": [
       "'education'"
      ]
     },
     "execution_count": 15,
     "metadata": {},
     "output_type": "execute_result"
    }
   ],
   "source": [
    "college"
   ]
  },
  {
   "cell_type": "code",
   "execution_count": 16,
   "id": "6c695e8b",
   "metadata": {},
   "outputs": [],
   "source": [
    "car=\"hi-tech technoologh\""
   ]
  },
  {
   "cell_type": "code",
   "execution_count": 17,
   "id": "41cad425",
   "metadata": {},
   "outputs": [
    {
     "data": {
      "text/plain": [
       "'hi-tech technoologh'"
      ]
     },
     "execution_count": 17,
     "metadata": {},
     "output_type": "execute_result"
    }
   ],
   "source": [
    "car"
   ]
  },
  {
   "cell_type": "code",
   "execution_count": 18,
   "id": "07b45de8",
   "metadata": {},
   "outputs": [],
   "source": [
    "mobile=\"smart life\""
   ]
  },
  {
   "cell_type": "code",
   "execution_count": 19,
   "id": "fbd3781d",
   "metadata": {},
   "outputs": [
    {
     "data": {
      "text/plain": [
       "'smart life'"
      ]
     },
     "execution_count": 19,
     "metadata": {},
     "output_type": "execute_result"
    }
   ],
   "source": [
    "mobile"
   ]
  },
  {
   "cell_type": "code",
   "execution_count": 20,
   "id": "44370bf0",
   "metadata": {},
   "outputs": [],
   "source": [
    "prasanna=\"good person\""
   ]
  },
  {
   "cell_type": "code",
   "execution_count": 21,
   "id": "928386c0",
   "metadata": {},
   "outputs": [
    {
     "data": {
      "text/plain": [
       "'good person'"
      ]
     },
     "execution_count": 21,
     "metadata": {},
     "output_type": "execute_result"
    }
   ],
   "source": [
    "prasanna"
   ]
  },
  {
   "cell_type": "code",
   "execution_count": 22,
   "id": "420281cc",
   "metadata": {},
   "outputs": [],
   "source": [
    "prasanna=\"sanjana\""
   ]
  },
  {
   "cell_type": "code",
   "execution_count": 23,
   "id": "81c0aad8",
   "metadata": {},
   "outputs": [
    {
     "data": {
      "text/plain": [
       "'sanjana'"
      ]
     },
     "execution_count": 23,
     "metadata": {},
     "output_type": "execute_result"
    }
   ],
   "source": [
    "prasanna"
   ]
  },
  {
   "cell_type": "code",
   "execution_count": 24,
   "id": "57aec580",
   "metadata": {},
   "outputs": [],
   "source": [
    "country=\"india\""
   ]
  },
  {
   "cell_type": "code",
   "execution_count": 25,
   "id": "708563f1",
   "metadata": {},
   "outputs": [
    {
     "data": {
      "text/plain": [
       "'india'"
      ]
     },
     "execution_count": 25,
     "metadata": {},
     "output_type": "execute_result"
    }
   ],
   "source": [
    "country"
   ]
  },
  {
   "cell_type": "code",
   "execution_count": 26,
   "id": "88176c2a",
   "metadata": {},
   "outputs": [],
   "source": [
    "number=\"2023\""
   ]
  },
  {
   "cell_type": "code",
   "execution_count": 27,
   "id": "a8b2da07",
   "metadata": {},
   "outputs": [
    {
     "data": {
      "text/plain": [
       "'2023'"
      ]
     },
     "execution_count": 27,
     "metadata": {},
     "output_type": "execute_result"
    }
   ],
   "source": [
    "number"
   ]
  },
  {
   "cell_type": "code",
   "execution_count": 28,
   "id": "2797fb74",
   "metadata": {},
   "outputs": [
    {
     "data": {
      "text/plain": [
       "str"
      ]
     },
     "execution_count": 28,
     "metadata": {},
     "output_type": "execute_result"
    }
   ],
   "source": [
    "type(number)"
   ]
  },
  {
   "cell_type": "code",
   "execution_count": 29,
   "id": "15970e5c",
   "metadata": {},
   "outputs": [
    {
     "data": {
      "text/plain": [
       "int"
      ]
     },
     "execution_count": 29,
     "metadata": {},
     "output_type": "execute_result"
    }
   ],
   "source": []
  },
  {
   "cell_type": "code",
   "execution_count": 1,
   "id": "9587db1e",
   "metadata": {},
   "outputs": [],
   "source": [
    "number1=2023"
   ]
  },
  {
   "cell_type": "code",
   "execution_count": 2,
   "id": "d235a6d0",
   "metadata": {},
   "outputs": [
    {
     "data": {
      "text/plain": [
       "2023"
      ]
     },
     "execution_count": 2,
     "metadata": {},
     "output_type": "execute_result"
    }
   ],
   "source": [
    "number1"
   ]
  },
  {
   "cell_type": "code",
   "execution_count": 3,
   "id": "b5d7da9c",
   "metadata": {},
   "outputs": [
    {
     "data": {
      "text/plain": [
       "int"
      ]
     },
     "execution_count": 3,
     "metadata": {},
     "output_type": "execute_result"
    }
   ],
   "source": [
    "type(number1)"
   ]
  },
  {
   "cell_type": "code",
   "execution_count": 4,
   "id": "d2152aec",
   "metadata": {},
   "outputs": [
    {
     "ename": "SyntaxError",
     "evalue": "invalid decimal literal (2340788906.py, line 1)",
     "output_type": "error",
     "traceback": [
      "\u001b[1;36m  Cell \u001b[1;32mIn[4], line 1\u001b[1;36m\u001b[0m\n\u001b[1;33m    1number=\"prasanna\"\u001b[0m\n\u001b[1;37m    ^\u001b[0m\n\u001b[1;31mSyntaxError\u001b[0m\u001b[1;31m:\u001b[0m invalid decimal literal\n"
     ]
    }
   ],
   "source": [
    "1number=\"prasanna\""
   ]
  },
  {
   "cell_type": "code",
   "execution_count": 5,
   "id": "863d4f2c",
   "metadata": {},
   "outputs": [],
   "source": [
    "s=(1,2,3,4,5,6,7)"
   ]
  },
  {
   "cell_type": "code",
   "execution_count": 6,
   "id": "14482dfa",
   "metadata": {},
   "outputs": [
    {
     "data": {
      "text/plain": [
       "(1, 2, 3, 4, 5, 6, 7)"
      ]
     },
     "execution_count": 6,
     "metadata": {},
     "output_type": "execute_result"
    }
   ],
   "source": [
    "s"
   ]
  },
  {
   "cell_type": "code",
   "execution_count": 7,
   "id": "99d83b49",
   "metadata": {},
   "outputs": [
    {
     "data": {
      "text/plain": [
       "tuple"
      ]
     },
     "execution_count": 7,
     "metadata": {},
     "output_type": "execute_result"
    }
   ],
   "source": [
    "type(s)"
   ]
  },
  {
   "cell_type": "code",
   "execution_count": 8,
   "id": "9e70a5e4",
   "metadata": {
    "scrolled": true
   },
   "outputs": [
    {
     "ename": "SyntaxError",
     "evalue": "invalid character '👍' (U+1F44D) (391388555.py, line 1)",
     "output_type": "error",
     "traceback": [
      "\u001b[1;36m  Cell \u001b[1;32mIn[8], line 1\u001b[1;36m\u001b[0m\n\u001b[1;33m    s1=(\"prasanna,\"coding\",\"👍\",\"😎\")\u001b[0m\n\u001b[1;37m                            ^\u001b[0m\n\u001b[1;31mSyntaxError\u001b[0m\u001b[1;31m:\u001b[0m invalid character '👍' (U+1F44D)\n"
     ]
    }
   ],
   "source": [
    "s1=(\"prasanna,\"coding\",\"👍\",\"😎\")"
   ]
  },
  {
   "cell_type": "code",
   "execution_count": 12,
   "id": "e804ad55",
   "metadata": {},
   "outputs": [],
   "source": [
    "s1=(\"prasanna\",\"coding\",\"👍\",\"😎\",1,2,3,4)"
   ]
  },
  {
   "cell_type": "code",
   "execution_count": 13,
   "id": "ad041a4a",
   "metadata": {},
   "outputs": [
    {
     "data": {
      "text/plain": [
       "('prasanna', 'coding', '👍', '😎', 1, 2, 3, 4)"
      ]
     },
     "execution_count": 13,
     "metadata": {},
     "output_type": "execute_result"
    }
   ],
   "source": [
    "s1"
   ]
  },
  {
   "cell_type": "code",
   "execution_count": 11,
   "id": "b7bc33fa",
   "metadata": {},
   "outputs": [
    {
     "data": {
      "text/plain": [
       "tuple"
      ]
     },
     "execution_count": 11,
     "metadata": {},
     "output_type": "execute_result"
    }
   ],
   "source": [
    "type(s1)"
   ]
  },
  {
   "cell_type": "code",
   "execution_count": 14,
   "id": "f132f958",
   "metadata": {},
   "outputs": [],
   "source": [
    "car=[\"bmw\",\"audi\",\"knn\",\"benz\"]"
   ]
  },
  {
   "cell_type": "code",
   "execution_count": 15,
   "id": "905b4899",
   "metadata": {},
   "outputs": [
    {
     "data": {
      "text/plain": [
       "['bmw', 'audi', 'knn', 'benz']"
      ]
     },
     "execution_count": 15,
     "metadata": {},
     "output_type": "execute_result"
    }
   ],
   "source": [
    "car"
   ]
  },
  {
   "cell_type": "code",
   "execution_count": 16,
   "id": "59befeb5",
   "metadata": {},
   "outputs": [
    {
     "data": {
      "text/plain": [
       "list"
      ]
     },
     "execution_count": 16,
     "metadata": {},
     "output_type": "execute_result"
    }
   ],
   "source": [
    "type(car)"
   ]
  },
  {
   "cell_type": "code",
   "execution_count": 17,
   "id": "3c1340d0",
   "metadata": {},
   "outputs": [],
   "source": [
    "s2={1,2,3,4,5,\"prasanna\",\"college\",\"coding\",\"phone\"}\n"
   ]
  },
  {
   "cell_type": "code",
   "execution_count": 18,
   "id": "094c8997",
   "metadata": {},
   "outputs": [
    {
     "data": {
      "text/plain": [
       "{1, 2, 3, 4, 5, 'coding', 'college', 'phone', 'prasanna'}"
      ]
     },
     "execution_count": 18,
     "metadata": {},
     "output_type": "execute_result"
    }
   ],
   "source": [
    "s2"
   ]
  },
  {
   "cell_type": "code",
   "execution_count": 19,
   "id": "ac38f35d",
   "metadata": {},
   "outputs": [
    {
     "data": {
      "text/plain": [
       "set"
      ]
     },
     "execution_count": 19,
     "metadata": {},
     "output_type": "execute_result"
    }
   ],
   "source": [
    "type(s2)"
   ]
  },
  {
   "cell_type": "code",
   "execution_count": null,
   "id": "e953755c",
   "metadata": {},
   "outputs": [],
   "source": []
  }
 ],
 "metadata": {
  "kernelspec": {
   "display_name": "Python 3 (ipykernel)",
   "language": "python",
   "name": "python3"
  },
  "language_info": {
   "codemirror_mode": {
    "name": "ipython",
    "version": 3
   },
   "file_extension": ".py",
   "mimetype": "text/x-python",
   "name": "python",
   "nbconvert_exporter": "python",
   "pygments_lexer": "ipython3",
   "version": "3.10.9"
  }
 },
 "nbformat": 4,
 "nbformat_minor": 5
}
