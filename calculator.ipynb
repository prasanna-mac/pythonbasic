{
 "cells": [
  {
   "cell_type": "markdown",
   "id": "71a24c78",
   "metadata": {},
   "source": [
    "# calculator"
   ]
  },
  {
   "cell_type": "code",
   "execution_count": 1,
   "id": "dc7e3414",
   "metadata": {
    "scrolled": false
   },
   "outputs": [
    {
     "name": "stdout",
     "output_type": "stream",
     "text": [
      "enter a value5\n",
      "entre b value5\n",
      "enter a operations,('+','-','*','/','//','%')*\n",
      "here we are performing multiplication operation 25\n"
     ]
    }
   ],
   "source": [
    "a =int(input(\"enter a value\"))\n",
    "b=int(input(\"entre b value\"))\n",
    "operations = input(\"enter a operations,('+','-','*','/','//','%')\")\n",
    "\n",
    "if operations ==\"+\":\n",
    "    print(\"here we are performing addition operation\",a+b)\n",
    "elif operations ==\"-\":\n",
    "    print(\"here we are performing substraction operation\",a-b)\n",
    "elif operations ==\"*\":\n",
    "    print(\"here we are performing multiplication operation\",a*b)\n",
    "elif operations == \"/\":\n",
    "    print(\"here we are performing divison operation\",a/b)\n",
    "elif operations ==\"//\":\n",
    "    print(\"here we are performing divison operation with out decimal point\",a//b)\n",
    "elif operation ==\"%\":\n",
    "    print(\"here we are performing modular operation with out decimal point\",a%b)\n",
    "else:\n",
    "    print(\"please enter the valid operation\")\n",
    "     "
   ]
  },
  {
   "cell_type": "code",
   "execution_count": null,
   "id": "0381de7d",
   "metadata": {},
   "outputs": [],
   "source": []
  },
  {
   "cell_type": "code",
   "execution_count": null,
   "id": "aba37c76",
   "metadata": {},
   "outputs": [],
   "source": []
  },
  {
   "cell_type": "code",
   "execution_count": null,
   "id": "1f774564",
   "metadata": {},
   "outputs": [],
   "source": []
  },
  {
   "cell_type": "code",
   "execution_count": null,
   "id": "12a77493",
   "metadata": {},
   "outputs": [],
   "source": []
  }
 ],
 "metadata": {
  "kernelspec": {
   "display_name": "Python 3 (ipykernel)",
   "language": "python",
   "name": "python3"
  },
  "language_info": {
   "codemirror_mode": {
    "name": "ipython",
    "version": 3
   },
   "file_extension": ".py",
   "mimetype": "text/x-python",
   "name": "python",
   "nbconvert_exporter": "python",
   "pygments_lexer": "ipython3",
   "version": "3.10.9"
  }
 },
 "nbformat": 4,
 "nbformat_minor": 5
}
